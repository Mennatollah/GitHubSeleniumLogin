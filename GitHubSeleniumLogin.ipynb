{
 "cells": [
  {
   "cell_type": "code",
   "execution_count": null,
   "id": "d6593208",
   "metadata": {
    "ExecuteTime": {
     "start_time": "2022-09-10T01:30:31.912Z"
    }
   },
   "outputs": [],
   "source": [
    "from logging import error\n",
    "from selenium import webdriver \n",
    "from selenium.webdriver.common.by import By\n",
    "from selenium.webdriver.support.ui import WebDriverWait\n",
    "\n",
    "username = input()\n",
    "password = input()\n"
   ]
  },
  {
   "cell_type": "code",
   "execution_count": 83,
   "id": "ae3bb8ac",
   "metadata": {
    "ExecuteTime": {
     "end_time": "2022-09-10T01:24:07.664521Z",
     "start_time": "2022-09-10T01:24:02.723969Z"
    }
   },
   "outputs": [],
   "source": [
    "from selenium.webdriver.chrome.service import Service\n",
    "from webdriver_manager.chrome import ChromeDriverManager\n",
    "\n",
    "driver = webdriver.Chrome(service=Service(ChromeDriverManager().install()))\n",
    "driver.get(\"https://www.google.com\")"
   ]
  },
  {
   "cell_type": "code",
   "execution_count": 84,
   "id": "335dcb93",
   "metadata": {
    "ExecuteTime": {
     "end_time": "2022-09-10T01:24:15.170950Z",
     "start_time": "2022-09-10T01:24:10.186144Z"
    }
   },
   "outputs": [
    {
     "name": "stdout",
     "output_type": "stream",
     "text": [
      "[+] Login successful\n"
     ]
    }
   ],
   "source": [
    "driver.get(\"https://github.com/login\")\n",
    "driver.find_element(By.ID, \"login_field\").send_keys(username)\n",
    "driver.find_element(By.ID, \"password\").send_keys(password)\n",
    "driver.find_element(By.NAME, \"commit\").click()\n",
    "WebDriverWait(driver=driver, timeout=10).until(\n",
    "    lambda x: x.execute_script(\"return document.readyState === 'complete'\"))\n",
    "error_message = \"Incorrect username or password.\"\n",
    "errors = driver.find_elements(By.CLASS_NAME, \"flash-error\")\n",
    "if any(error_message in e.text for e in errors):\n",
    "    print(\"[!] Login failed\")\n",
    "else:\n",
    "    print(\"[+] Login successful\")\n",
    "driver.close()"
   ]
  },
  {
   "cell_type": "code",
   "execution_count": null,
   "id": "1c32b1b1",
   "metadata": {},
   "outputs": [],
   "source": []
  }
 ],
 "metadata": {
  "kernelspec": {
   "display_name": "Python 3 (ipykernel)",
   "language": "python",
   "name": "python3"
  },
  "language_info": {
   "codemirror_mode": {
    "name": "ipython",
    "version": 3
   },
   "file_extension": ".py",
   "mimetype": "text/x-python",
   "name": "python",
   "nbconvert_exporter": "python",
   "pygments_lexer": "ipython3",
   "version": "3.9.12"
  },
  "toc": {
   "base_numbering": 1,
   "nav_menu": {},
   "number_sections": true,
   "sideBar": true,
   "skip_h1_title": false,
   "title_cell": "Table of Contents",
   "title_sidebar": "Contents",
   "toc_cell": false,
   "toc_position": {},
   "toc_section_display": true,
   "toc_window_display": false
  },
  "varInspector": {
   "cols": {
    "lenName": 16,
    "lenType": 16,
    "lenVar": 40
   },
   "kernels_config": {
    "python": {
     "delete_cmd_postfix": "",
     "delete_cmd_prefix": "del ",
     "library": "var_list.py",
     "varRefreshCmd": "print(var_dic_list())"
    },
    "r": {
     "delete_cmd_postfix": ") ",
     "delete_cmd_prefix": "rm(",
     "library": "var_list.r",
     "varRefreshCmd": "cat(var_dic_list()) "
    }
   },
   "types_to_exclude": [
    "module",
    "function",
    "builtin_function_or_method",
    "instance",
    "_Feature"
   ],
   "window_display": false
  }
 },
 "nbformat": 4,
 "nbformat_minor": 5
}
